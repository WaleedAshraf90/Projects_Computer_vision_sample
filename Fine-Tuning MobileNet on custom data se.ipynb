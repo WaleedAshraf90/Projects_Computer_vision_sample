{
 "cells": [
  {
   "cell_type": "markdown",
   "id": "4134093d",
   "metadata": {},
   "source": [
    "# Fine-Tuning MobileNet on custom data set"
   ]
  },
  {
   "cell_type": "code",
   "execution_count": 1,
   "id": "8987c895",
   "metadata": {},
   "outputs": [
    {
     "name": "stderr",
     "output_type": "stream",
     "text": [
      "Using TensorFlow backend.\n"
     ]
    },
    {
     "ename": "ModuleNotFoundError",
     "evalue": "No module named 'tensorflow.keras'",
     "output_type": "error",
     "traceback": [
      "\u001b[1;31m---------------------------------------------------------------------------\u001b[0m",
      "\u001b[1;31mModuleNotFoundError\u001b[0m                       Traceback (most recent call last)",
      "\u001b[1;32m<ipython-input-1-cc5fd7f302bf>\u001b[0m in \u001b[0;36m<module>\u001b[1;34m\u001b[0m\n\u001b[0;32m      2\u001b[0m \u001b[1;32mimport\u001b[0m \u001b[0mtensorflow\u001b[0m \u001b[1;32mas\u001b[0m \u001b[0mtf\u001b[0m\u001b[1;33m\u001b[0m\u001b[1;33m\u001b[0m\u001b[0m\n\u001b[0;32m      3\u001b[0m \u001b[1;32mfrom\u001b[0m \u001b[0mtensorflow\u001b[0m \u001b[1;32mimport\u001b[0m \u001b[0mkeras\u001b[0m\u001b[1;33m\u001b[0m\u001b[1;33m\u001b[0m\u001b[0m\n\u001b[1;32m----> 4\u001b[1;33m \u001b[1;32mfrom\u001b[0m \u001b[0mtensorflow\u001b[0m\u001b[1;33m.\u001b[0m\u001b[0mkeras\u001b[0m\u001b[1;33m.\u001b[0m\u001b[0mlayers\u001b[0m \u001b[1;32mimport\u001b[0m \u001b[0mDense\u001b[0m\u001b[1;33m,\u001b[0m \u001b[0mActivation\u001b[0m\u001b[1;33m\u001b[0m\u001b[1;33m\u001b[0m\u001b[0m\n\u001b[0m\u001b[0;32m      5\u001b[0m \u001b[1;32mfrom\u001b[0m \u001b[0mtensorflow\u001b[0m\u001b[1;33m.\u001b[0m\u001b[0mkeras\u001b[0m\u001b[1;33m.\u001b[0m\u001b[0moptimizers\u001b[0m \u001b[1;32mimport\u001b[0m \u001b[0mAdam\u001b[0m\u001b[1;33m\u001b[0m\u001b[1;33m\u001b[0m\u001b[0m\n\u001b[0;32m      6\u001b[0m \u001b[1;32mfrom\u001b[0m \u001b[0mtensorflow\u001b[0m\u001b[1;33m.\u001b[0m\u001b[0mkeras\u001b[0m\u001b[1;33m.\u001b[0m\u001b[0mmetrics\u001b[0m \u001b[1;32mimport\u001b[0m \u001b[0mcategorical_crossentropy\u001b[0m\u001b[1;33m\u001b[0m\u001b[1;33m\u001b[0m\u001b[0m\n",
      "\u001b[1;31mModuleNotFoundError\u001b[0m: No module named 'tensorflow.keras'"
     ]
    }
   ],
   "source": [
    "import numpy as np\n",
    "import tensorflow as tf\n",
    "from tensorflow import keras\n",
    "from tensorflow.keras.layers import Dense, Activation\n",
    "from tensorflow.keras.optimizers import Adam\n",
    "from tensorflow.keras.metrics import categorical_crossentropy\n",
    "from tensorflow.keras.preprocessing.image import ImageDataGenerator # علشان اكتر الداتا شوية\n",
    "from tensorflow.keras.preprocessing import image\n",
    "from tensorflow.keras.models import Model\n",
    "from tensorflow.keras.applications import imagenet_utils\n",
    "from keras.applications.mobilenetv2 import preprocess_input\n",
    "from keras.applications import MobileNetV2\n",
    "from tensorflow.keras.applications.mobilenet import MobileNet\n",
    "from sklearn.metrics import confusion_matrix\n",
    "import itertools\n",
    "import os\n",
    "import shutil #لو عايز انقل ملف من ملف تانى\n",
    "import random\n",
    "import matplotlib.pyplot as plt"
   ]
  },
  {
   "cell_type": "code",
   "execution_count": null,
   "id": "ba972333",
   "metadata": {},
   "outputs": [],
   "source": [
    "# organise data into train, valid and test dirs\n",
    "os.chdir(r'G:\\computer vision\\computer Vsion 160 video\\Fine-Tuning MobileNet on custom data se\\Dataset')\n",
    "if os.path.isdir('train') is False : # بروح على يشوف فى ملف اسمة train ولا لا\n",
    "    os.mkdir('train') # الشرط اتحقق كدة هيعمل ملف جديد\n",
    "    os.mkdir('valid')\n",
    "    os.mkdir('test')\n",
    "    \n",
    "    for i in range(0 ,10): # i هتقعد تلف على كل الملفات\n",
    "        shutil.move(f'{i}', 'train') # استخدمت function shutil علشان تنقل الملفات من ملف اي تانى\n",
    "        os.mkdir(f'valid/{i}') # عملت ملف جديد بس مش هيعمل علشان هو هو نفس الاسم هيخلية هو هو\n",
    "        os.mkdir(f'test/{i}')\n",
    "        \n",
    "        \n",
    "        \n",
    "        # هنا دخلت خت 30 صورة من train\n",
    "        valid_samples = random.sample(os.listdir(f'train/{i}'), 30) # هنا حطيت 30 صورة فى vaild\n",
    "        for j in valid_samples:\n",
    "             shutil.move(f'train/{i}/{j}', f'valid/{i}')\n",
    "             \n",
    "        \n",
    "        test_samples = random.sample(os.listdir(f'train/{i}'), 5) # هنا حطيت 5 صور\n",
    "        for k in test_samples:\n",
    "            shutil.move(f'train/{i}/{k}', f'test/{i}')\n",
    "            \n",
    "            \n",
    "os.chdir('../..')"
   ]
  },
  {
   "cell_type": "code",
   "execution_count": null,
   "id": "566f24f8",
   "metadata": {},
   "outputs": [],
   "source": [
    "\n",
    "train_path = r'G:\\computer vision\\computer Vsion 160 video\\Fine-Tuning MobileNet on custom data se\\Dataset\\train '\n",
    "valid_path = r'G:\\computer vision\\computer Vsion 160 video\\Fine-Tuning MobileNet on custom data se\\Dataset\\valid'\n",
    "test_path = r'G:\\computer vision\\computer Vsion 160 video\\Fine-Tuning MobileNet on custom data se\\Dataset\\test'\n",
    "# mobile net بتشغل 01 ابى 1 دية عمله tain على كذه صورة  preporcess دية بتكون بتظبط الصورة\n",
    "train_batches = ImageDataGenerator(preprocessing_function=(tf.keras.applications.mobilenet.preprocess_input).flow_from_directory(directory = train_path , target_size = (224,224), batch_size = 10))\n",
    "\n",
    "\n",
    "valid_batches = ImageDataGenerator(preprocessing_function=(tf.keras.applications.mobilenet.preprocess_input).flow_from_directory(\n",
    "    directory = valid_path , target_size = (224,224), batch_size = 10))\n",
    "\n",
    "test_batches = ImageDataGenerator(preprocessing_function=(tf.keras.applications.mobilenet.preprocess_input).flow_from_directory(\n",
    "    directory = test_path , target_size = (224,224), batch_size = 10, shuffle= False))\n"
   ]
  },
  {
   "cell_type": "code",
   "execution_count": null,
   "id": "7bac9eaf",
   "metadata": {},
   "outputs": [],
   "source": [
    "train_batches = ImageDataGenerator(preprocessing_function=(tf.keras.applications.mobilenet.preprocess_input).flow_from_directory(directory = train_path , target_size = (224,224), batch_size = 10))\n",
    "\n",
    "\n",
    "valid_batches = ImageDataGenerator(preprocessing_function=(tf.keras.applications.mobilenet.preprocess_input).flow_from_directory(\n",
    "    directory = valid_path , target_size = (224,224), batch_size = 10))\n",
    "\n",
    "test_batches = ImageDataGenerator(preprocessing_function=(tf.keras.applications.mobilenet.preprocess_input).flow_from_directory(\n",
    "    directory = test_path , target_size = (224,224), batch_size = 10, shuffle= False))\n"
   ]
  },
  {
   "cell_type": "code",
   "execution_count": null,
   "id": "3425b76b",
   "metadata": {},
   "outputs": [
    {
     "name": "stdout",
     "output_type": "stream",
     "text": [
      "Collecting keras==2.2.0\n",
      "  Downloading Keras-2.2.0-py2.py3-none-any.whl (300 kB)\n",
      "     ------------------------------------- 300.8/300.8 kB 48.3 kB/s eta 0:00:00\n",
      "Requirement already satisfied: numpy>=1.9.1 in c:\\users\\elpop\\anaconda3\\lib\\site-packages (from keras==2.2.0) (1.23.4)\n",
      "Requirement already satisfied: scipy>=0.14 in c:\\users\\elpop\\anaconda3\\lib\\site-packages (from keras==2.2.0) (1.10.1)\n",
      "Requirement already satisfied: six>=1.9.0 in c:\\users\\elpop\\anaconda3\\lib\\site-packages (from keras==2.2.0) (1.15.0)\n",
      "Requirement already satisfied: pyyaml in c:\\users\\elpop\\anaconda3\\lib\\site-packages (from keras==2.2.0) (5.4.1)\n",
      "Requirement already satisfied: h5py in c:\\users\\elpop\\anaconda3\\lib\\site-packages (from keras==2.2.0) (2.10.0)\n",
      "Collecting keras-applications==1.0.2 (from keras==2.2.0)\n",
      "  Downloading Keras_Applications-1.0.2-py2.py3-none-any.whl (43 kB)\n",
      "     --------------------------------------- 43.6/43.6 kB 88.8 kB/s eta 0:00:00\n",
      "Collecting keras-preprocessing==1.0.1 (from keras==2.2.0)\n",
      "  Downloading Keras_Preprocessing-1.0.1-py2.py3-none-any.whl (26 kB)\n",
      "Installing collected packages: keras-preprocessing, keras-applications, keras\n",
      "  Attempting uninstall: keras\n",
      "    Found existing installation: keras 2.12.0\n",
      "    Uninstalling keras-2.12.0:\n",
      "      Successfully uninstalled keras-2.12.0\n",
      "Successfully installed keras-2.2.0 keras-applications-1.0.2 keras-preprocessing-1.0.1\n"
     ]
    },
    {
     "name": "stderr",
     "output_type": "stream",
     "text": [
      "WARNING: Ignoring invalid distribution -pencv-python-headless (c:\\users\\elpop\\anaconda3\\lib\\site-packages)\n",
      "  WARNING: Retrying (Retry(total=4, connect=None, read=None, redirect=None, status=None)) after connection broken by 'ReadTimeoutError(\"HTTPSConnectionPool(host='files.pythonhosted.org', port=443): Read timed out. (read timeout=15)\")': /packages/68/12/4cabc5c01451eb3b413d19ea151f36e33026fc0efb932bf51bcaf54acbf5/Keras-2.2.0-py2.py3-none-any.whl\n",
      "WARNING: Ignoring invalid distribution -pencv-python-headless (c:\\users\\elpop\\anaconda3\\lib\\site-packages)\n",
      "ERROR: pip's dependency resolver does not currently take into account all the packages that are installed. This behaviour is the source of the following dependency conflicts.\n",
      "tensorflow-intel 2.12.0 requires keras<2.13,>=2.12.0, but you have keras 2.2.0 which is incompatible.\n"
     ]
    }
   ],
   "source": [
    "pip install keras ==2.12.0\n"
   ]
  },
  {
   "cell_type": "code",
   "execution_count": null,
   "id": "e10f3d91",
   "metadata": {},
   "outputs": [],
   "source": [
    "!pip uninstall keras-applications\n"
   ]
  },
  {
   "cell_type": "code",
   "execution_count": null,
   "id": "b71ed099",
   "metadata": {},
   "outputs": [],
   "source": [
    "!pip install keras-applications==1.0.8 "
   ]
  },
  {
   "cell_type": "code",
   "execution_count": null,
   "id": "a812e6c9",
   "metadata": {},
   "outputs": [],
   "source": []
  }
 ],
 "metadata": {
  "kernelspec": {
   "display_name": "Python 3",
   "language": "python",
   "name": "python3"
  },
  "language_info": {
   "codemirror_mode": {
    "name": "ipython",
    "version": 3
   },
   "file_extension": ".py",
   "mimetype": "text/x-python",
   "name": "python",
   "nbconvert_exporter": "python",
   "pygments_lexer": "ipython3",
   "version": "3.8.8"
  }
 },
 "nbformat": 4,
 "nbformat_minor": 5
}
